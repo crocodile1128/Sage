{
 "cells": [
  {
   "cell_type": "markdown",
   "metadata": {},
   "source": [
    "# ECDSA_secp256k1\n",
    "Perform ECDSA with the curve secp256k1 (used by Bitcoin, Ethereum, etc)."
   ]
  },
  {
   "cell_type": "markdown",
   "metadata": {},
   "source": [
    "As excerpted from Standards:\n",
    "\n",
    "The elliptic curve domain parameters over $F_p$ associated with a Koblitz curve secp256k1 are specified by the sextuple T = $(p,a,b,G,n,h)$ where the finite field $F_p$ is defined by:\n",
    "\n",
    "- p = FFFFFFFF FFFFFFFF FFFFFFFF FFFFFFFF FFFFFFFF FFFFFFFF FFFFFFFE FFFFFC2F\n",
    "- = $2^{256} - 2^{32} - 2^9 - 2^8 - 2^7 - 2^6 - 2^4 - 1$\n",
    "\n",
    "The curve $E: y^2 = x^3+ax+b$ over $F_p$ is defined by:\n",
    "\n",
    "- $a$ = 00000000 00000000 00000000 00000000 00000000 00000000 00000000 00000000\n",
    "- $b$ = 00000000 00000000 00000000 00000000 00000000 00000000 00000000 00000007\n",
    "\n",
    "The base point G in compressed form is:\n",
    "\n",
    "- $G$ = 02 79BE667E F9DCBBAC 55A06295 CE870B07 029BFCDB 2DCE28D9 59F2815B 16F81798\n",
    "\n",
    "and in uncompressed form is:\n",
    "\n",
    "- $G$ = 04 79BE667E F9DCBBAC 55A06295 CE870B07 029BFCDB 2DCE28D9 59F2815B 16F81798 483ADA77 26A3C465 5DA4FBFC 0E1108A8 FD17B448 A6855419 9C47D08F FB10D4B8\n",
    "\n",
    "Finally the order n of G and the cofactor are:\n",
    "\n",
    "- $n$ = FFFFFFFF FFFFFFFF FFFFFFFF FFFFFFFE BAAEDCE6 AF48A03B BFD25E8C D0364141\n",
    "- $h$ = 01"
   ]
  },
  {
   "cell_type": "code",
   "execution_count": 1,
   "metadata": {},
   "outputs": [
    {
     "name": "stdout",
     "output_type": "stream",
     "text": [
      "115792089237316195423570985008687907853269984665640564039457584007908834671663\n",
      "115792089237316195423570985008687907852837564279074904382605163141518161494337\n",
      "115792089237316195423570985008687907852837564279074904382605163141518161494337\n"
     ]
    }
   ],
   "source": [
    "# Define the parameter (p,a,b,G,n,h)\n",
    "p = 2^256-2^32-2^9-2^8-2^7-2^6-2^4-1  # 0xFFFFFFFFFFFFFFFFFFFFFFFFFFFFFFFFFFFFFFFFFFFFFFFFFFFFFFFEFFFFFC2F\n",
    "a = 0\n",
    "b = 7\n",
    "K = GF(p)\n",
    "E = EllipticCurve(K, [a,b])\n",
    "GX = 0x79BE667EF9DCBBAC55A06295CE870B07029BFCDB2DCE28D959F2815B16F81798\n",
    "GY = 0x483ADA7726A3C4655DA4FBFC0E1108A8FD17B448A68554199C47D08FFB10D4B8\n",
    "G = E(GX,GY)\n",
    "n = 0xFFFFFFFFFFFFFFFFFFFFFFFFFFFFFFFEBAAEDCE6AF48A03BBFD25E8CD0364141\n",
    "h = 1\n",
    "print (p)\n",
    "print (n)\n",
    "print (G.order())"
   ]
  },
  {
   "cell_type": "markdown",
   "metadata": {},
   "source": [
    "## (a) Let ID be your private key. What is your public key?"
   ]
  },
  {
   "cell_type": "code",
   "execution_count": 2,
   "metadata": {},
   "outputs": [
    {
     "name": "stdout",
     "output_type": "stream",
     "text": [
      "Public key: (115792089237316195423570985008687907853269984665640564039457584007908834671663, 0, 7, 115792089237316195423570985008687907852837564279074904382605163141518161494337, (55066263022277343669578718895168534326250603453777594175500187360389116729240 : 32670510020758816978083085130507043184471273380659243275938904335757337482424 : 1), (28454581412217762273367934512142172356589691413478120685102309863620429068249 : 61758745690864210825956316240597802688863283477858052515374659654629288558657 : 1))\n"
     ]
    }
   ],
   "source": [
    "# private key \n",
    "d = 28244\n",
    "P = d*G \n",
    "key_pub = (p,a,b,n,G,P)\n",
    "print ('Public key:', key_pub)"
   ]
  },
  {
   "cell_type": "markdown",
   "metadata": {},
   "source": [
    "## (b)\tUse your private key with a random ephemeral key to sign the hash value\n",
    "4a5e1e4baab89f3a32518a88c31bc87f618f76673e2cc77ab2127b7afdeda33b\n",
    "which identifies the transaction of the Genesis of Bitcoin. "
   ]
  },
  {
   "cell_type": "code",
   "execution_count": 3,
   "metadata": {},
   "outputs": [
    {
     "name": "stdout",
     "output_type": "stream",
     "text": [
      "r 14664404033648474741473650548991088579882888756126411964462467668834150446483\n",
      "digest: 33637443511616323281564667033488455043036536822741741196822500957464973648699\n",
      "signature: (14664404033648474741473650548991088579882888756126411964462467668834150446483, 69892404166647449199407261984459643825645365187452073353337350828477719695487)\n",
      "tosend (33637443511616323281564667033488455043036536822741741196822500957464973648699, (14664404033648474741473650548991088579882888756126411964462467668834150446483, 69892404166647449199407261984459643825645365187452073353337350828477719695487))\n"
     ]
    }
   ],
   "source": [
    "digest = Integer('0x4a5e1e4baab89f3a32518a88c31bc87f618f76673e2cc77ab2127b7afdeda33b')\n",
    "kE = randint(1, n - 1)\n",
    "kE_inv = inverse_mod(kE, n)\n",
    "R = kE*G\n",
    "(xr, yr) = R.xy()\n",
    "r = mod(xr, n)\n",
    "sig = mod(((digest + d*r) * kE_inv), n)\n",
    "tosend = (digest, (r, sig))\n",
    "print ('r', r)\n",
    "print ('digest:', digest)\n",
    "print ('signature:', (r,sig))\n",
    "print ('tosend', tosend)"
   ]
  },
  {
   "cell_type": "markdown",
   "metadata": {},
   "source": [
    "## (c) Verify the signature with the public key"
   ]
  },
  {
   "cell_type": "code",
   "execution_count": 4,
   "metadata": {},
   "outputs": [
    {
     "name": "stdout",
     "output_type": "stream",
     "text": [
      "xp 14664404033648474741473650548991088579882888756126411964462467668834150446483\n",
      "True\n"
     ]
    }
   ],
   "source": [
    "w = inverse_mod(int(sig), n)\n",
    "u1 = Integer(mod(w*digest, n))\n",
    "u2 = Integer(mod(w*r, n))\n",
    "PP = u1*G + u2*P\n",
    "(xpp, ypp) = PP.xy()\n",
    "xp = mod(xpp,n)\n",
    "print ('xp', xp)\n",
    "print (xp == r)"
   ]
  },
  {
   "cell_type": "code",
   "execution_count": null,
   "metadata": {},
   "outputs": [],
   "source": [
    "discrete_log(P,G,operation = '+')"
   ]
  },
  {
   "cell_type": "code",
   "execution_count": null,
   "metadata": {},
   "outputs": [],
   "source": []
  }
 ],
 "metadata": {
  "kernelspec": {
   "display_name": "SageMath 9.2",
   "language": "sage",
   "name": "sagemath"
  },
  "language_info": {
   "codemirror_mode": {
    "name": "ipython",
    "version": 3
   },
   "file_extension": ".py",
   "mimetype": "text/x-python",
   "name": "python",
   "nbconvert_exporter": "python",
   "pygments_lexer": "ipython3",
   "version": "3.7.7"
  }
 },
 "nbformat": 4,
 "nbformat_minor": 4
}
