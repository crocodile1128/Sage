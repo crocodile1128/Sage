{
 "cells": [
  {
   "cell_type": "markdown",
   "metadata": {},
   "source": [
    "# ElGamal"
   ]
  },
  {
   "cell_type": "markdown",
   "metadata": {},
   "source": [
    "## Domain Parameter"
   ]
  },
  {
   "cell_type": "code",
   "execution_count": 2,
   "metadata": {},
   "outputs": [],
   "source": [
    "p = 59\n",
    "g = 4 # ord(g) = 29"
   ]
  },
  {
   "cell_type": "markdown",
   "metadata": {},
   "source": [
    "## Key Generation"
   ]
  },
  {
   "cell_type": "code",
   "execution_count": 3,
   "metadata": {},
   "outputs": [],
   "source": [
    "# Alice send public key to Bob\n",
    "a = 6\n",
    "A = pow(g, a, p)\n",
    "pub = (p, g, A)"
   ]
  },
  {
   "cell_type": "markdown",
   "metadata": {},
   "source": [
    "## Encryption"
   ]
  },
  {
   "cell_type": "code",
   "execution_count": 4,
   "metadata": {},
   "outputs": [
    {
     "name": "stdout",
     "output_type": "stream",
     "text": [
      "27\n"
     ]
    }
   ],
   "source": [
    "p, g, A = pub\n",
    "x = 18\n",
    "# Ephemeral key\n",
    "import random\n",
    "i = random.randint(2,p-2)\n",
    "kE = pow(g, i, p)\n",
    "# Masking key\n",
    "kM = pow(A, i, p)\n",
    "y = (x*kM) % p\n",
    "cipher = (kE, y)\n",
    "print (kM)"
   ]
  },
  {
   "cell_type": "markdown",
   "metadata": {},
   "source": [
    "## Decryption"
   ]
  },
  {
   "cell_type": "code",
   "execution_count": 6,
   "metadata": {},
   "outputs": [
    {
     "name": "stdout",
     "output_type": "stream",
     "text": [
      "18\n"
     ]
    }
   ],
   "source": [
    "def egcd(a, b):\n",
    "    if a == 0:\n",
    "        return (b, 0, 1)\n",
    "    else:\n",
    "        g, y, x = egcd(b % a, a)\n",
    "        return (g, x - (b // a) * y, y)\n",
    "\n",
    "def modinv(a, p):\n",
    "    g, x, y = egcd(a, p)\n",
    "    if g != 1:\n",
    "        raise Exception('modular inverse does not exist')\n",
    "    else:\n",
    "        return x % p\n",
    "\n",
    "kE, y = cipher\n",
    "kM = pow(kE, a, p)\n",
    "kMinv = modinv(kM, p)\n",
    "x = (y * kMinv) % p\n",
    "\n",
    "print (x)"
   ]
  },
  {
   "cell_type": "markdown",
   "metadata": {},
   "source": [
    "## Problems"
   ]
  },
  {
   "cell_type": "markdown",
   "metadata": {},
   "source": [
    "### Get Primitive Elements of 59"
   ]
  },
  {
   "cell_type": "code",
   "execution_count": 7,
   "metadata": {},
   "outputs": [
    {
     "name": "stdout",
     "output_type": "stream",
     "text": [
      "2\n",
      "6\n",
      "8\n",
      "10\n",
      "11\n",
      "13\n",
      "14\n",
      "18\n",
      "23\n",
      "24\n",
      "30\n",
      "31\n",
      "32\n",
      "33\n",
      "34\n",
      "37\n",
      "38\n",
      "39\n",
      "40\n",
      "42\n",
      "43\n",
      "44\n",
      "47\n",
      "50\n",
      "52\n",
      "54\n",
      "55\n",
      "56\n"
     ]
    }
   ],
   "source": [
    "for i in range(1, 59):\n",
    "    if pow(i, 2, 59) != 1 and pow(i,29, 59) != 1 and pow(i,58, 59) == 1:\n",
    "        print (i)"
   ]
  },
  {
   "cell_type": "markdown",
   "metadata": {},
   "source": [
    "### Textbook 8.18 - If ord(public_key) is small\n",
    "- p=29, g=2\n",
    "- public key A = 28"
   ]
  },
  {
   "cell_type": "code",
   "execution_count": 8,
   "metadata": {},
   "outputs": [],
   "source": [
    "def dec(cipher, a):\n",
    "    p = 29\n",
    "    g = 2\n",
    "    kE, y = cipher\n",
    "    kM = pow(kE, a, p)\n",
    "    kMinv = modinv(kM, p)\n",
    "    x = (y * kMinv) % p\n",
    "    return x\n",
    "\n",
    "# log_g A mod p\n",
    "def decrete_log(g, A):\n",
    "    p = 29\n",
    "    for i in range(2,p):\n",
    "        if pow(g, i, 29) == A:\n",
    "            return i\n",
    "    return 0\n",
    "\n",
    "ciphers = [(3,15),(19,14),(6,15),(1,24),(22,13),(4,7),(13,24),(3,21),(18,12),(26,5),(7,12)]\n",
    "table = 'abcdefghijklmnopqrstuvwxyzäöü'\n",
    "\n",
    "p = 29\n",
    "g = 2"
   ]
  },
  {
   "cell_type": "markdown",
   "metadata": {},
   "source": [
    "- All possible plaintext char"
   ]
  },
  {
   "cell_type": "code",
   "execution_count": 9,
   "metadata": {},
   "outputs": [
    {
     "name": "stdout",
     "output_type": "stream",
     "text": [
      "opofqwfiryr\n",
      "popynhyvmfm\n"
     ]
    }
   ],
   "source": [
    "dec = ''\n",
    "for c in ciphers:\n",
    "    kE, y = c\n",
    "    kM = 28\n",
    "    kMinv = kM\n",
    "    dec += table[(y*kMinv)%p]\n",
    "print (dec)\n",
    "\n",
    "dec = ''\n",
    "for c in ciphers:\n",
    "    kE, y = c\n",
    "    kM = 1\n",
    "    kMinv = kM\n",
    "    dec += table[(y*kMinv)%p]\n",
    "print (dec)"
   ]
  },
  {
   "cell_type": "markdown",
   "metadata": {},
   "source": [
    "- Determine kM = 1 or kM = 28 by Quadratic Residuosity\n",
    "    - $k_E$ is $g^i$$modP$\n",
    "    - if $k_E$ is quadratic residual, then $i$ must be even, \n",
    "        then $k_M$ is 1; otherwise $k_M$ is 28"
   ]
  },
  {
   "cell_type": "code",
   "execution_count": 10,
   "metadata": {},
   "outputs": [
    {
     "name": "stdout",
     "output_type": "stream",
     "text": [
      "[4, 16, 6, 24, 9, 7, 28, 25, 13, 23, 5, 20, 22, 1]\n",
      "oppynhyirym\n"
     ]
    }
   ],
   "source": [
    "ciphers = [(3,15),(19,14),(6,15),(1,24),(22,13),(4,7),(13,24),(3,21),(18,12),(26,5),(7,12)]\n",
    "table = 'abcdefghijklmnopqrstuvwxyzäöü'\n",
    "\n",
    "p = 29\n",
    "g = 2\n",
    "\n",
    "dec = ''\n",
    "residual_2_29 = []\n",
    "for i in range(2,29,2):\n",
    "    residual_2_29.append(pow(2, i, 29))\n",
    "print (residual_2_29)\n",
    "for c in ciphers:\n",
    "    kE, y = c\n",
    "    if kE in residual_2_29:\n",
    "        kM = 1\n",
    "    else:\n",
    "        kM = 28\n",
    "    kMinv = kM\n",
    "    dec += table[(y*kMinv) % p]\n",
    "print (dec)    "
   ]
  },
  {
   "cell_type": "markdown",
   "metadata": {},
   "source": [
    "- Cheat"
   ]
  },
  {
   "cell_type": "code",
   "execution_count": 11,
   "metadata": {},
   "outputs": [
    {
     "name": "stdout",
     "output_type": "stream",
     "text": [
      "oppynhyirym\n",
      "oppynhyirym\n"
     ]
    }
   ],
   "source": [
    "# Compute i from Ephermeral key (cheat)\n",
    "dec = ''\n",
    "for c in ciphers:\n",
    "    kE, y = c\n",
    "    i = decrete_log(g, kE)\n",
    "    kM = pow(28, i, p)\n",
    "    kMinv = kM\n",
    "    dec += table[(y*kMinv)%p]\n",
    "print (dec)\n",
    "\n",
    "# Compute Bob's private key (cheat)\n",
    "dec = ''\n",
    "priv = decrete_log(g, 28)\n",
    "for c in ciphers:\n",
    "    kE, y = c\n",
    "    kM = pow(kE, priv, p)\n",
    "    kMinv = modinv(kM, p)\n",
    "    dec += table[(y*kMinv)%p]\n",
    "print (dec)"
   ]
  },
  {
   "cell_type": "markdown",
   "metadata": {},
   "source": [
    "### Domain Parameter for ElGamel (or DSA)\n",
    "- For which prime numbers p and q, a multiplicative cyclic group of order q can be constructed as a subgroup of $(Z_p^*,\\times)$ ?\n",
    "- $q | (p-1)$"
   ]
  },
  {
   "cell_type": "code",
   "execution_count": 12,
   "metadata": {},
   "outputs": [
    {
     "name": "stdout",
     "output_type": "stream",
     "text": [
      "99\n",
      "0\n",
      "34\n",
      "44\n"
     ]
    }
   ],
   "source": [
    "print (862 % 109)\n",
    "print (856 % 107)\n",
    "print (858 % 103)\n",
    "print (852 % 101)"
   ]
  },
  {
   "cell_type": "markdown",
   "metadata": {},
   "source": [
    "## Shank's Baby-Step Giant-Step\n",
    "- Example:\n",
    "Solve $5^x≡52(mod307)$\n",
    "    - Write $x=i+18k$ where $0\\leq i,k<18$ (18 is the ceiling of $\\sqrt{307}$) \n",
    "        - That is $5^i≡52\\times5^{-18k}(mod307)$\n",
    "    - List baby steps $(i,5^i)$ and giant steps $(k,52\\times5^{-18k})$\n",
    "    - Find the collision"
   ]
  },
  {
   "cell_type": "code",
   "execution_count": 21,
   "metadata": {},
   "outputs": [
    {
     "name": "stdout",
     "output_type": "stream",
     "text": [
      "0 1\n",
      "1 5\n",
      "2 25\n",
      "3 125\n",
      "4 11\n",
      "5 55\n",
      "6 275\n",
      "7 147\n",
      "8 121\n",
      "9 298\n",
      "10 262\n",
      "11 82\n",
      "12 103\n",
      "13 208\n",
      "14 119\n",
      "15 288\n",
      "16 212\n",
      "17 139\n",
      "0 52\n",
      "1 247\n",
      "2 22\n",
      "3 258\n",
      "4 151\n",
      "5 180\n",
      "6 241\n",
      "7 147\n",
      "(7, 7)\n"
     ]
    }
   ],
   "source": [
    "from math import sqrt, ceil\n",
    "def egcd(a, b):\n",
    "    if a == 0:\n",
    "        return (b, 0, 1)\n",
    "    else:\n",
    "        g, y, x = egcd(b % a, a)\n",
    "        return (g, x - (b // a) * y, y)\n",
    "\n",
    "def modinv(a, p):\n",
    "    g, x, y = egcd(a, p)\n",
    "    if g != 1:\n",
    "        raise Exception('modular inverse does not exist')\n",
    "    else:\n",
    "        return x % p\n",
    "def babystep_giantstep(x,y,p):\n",
    "    baby_steps = []\n",
    "    sqrt_p = ceil(sqrt(p))\n",
    "    # baby step\n",
    "    for i in range(sqrt_p):\n",
    "        baby_steps.append(pow(x, i, p))\n",
    "        print (i, pow(x, i, p))\n",
    "\n",
    "    # giant step\n",
    "    giant = modinv(pow(x,sqrt_p,p), p) # in this example, 5^(-18)\n",
    "    for k in range(sqrt_p):\n",
    "        giant_step = y*pow(giant, k, p)%p\n",
    "        print (k, y*pow(giant, k, p)%p)\n",
    "        # check\n",
    "        for i in range(sqrt_p):\n",
    "            if giant_step in baby_steps:\n",
    "                return baby_steps.index(giant_step), k\n",
    "\n",
    "        \n",
    "p = 307\n",
    "x = 5\n",
    "y = 52\n",
    "print (babystep_giantstep(x,y,p))"
   ]
  },
  {
   "cell_type": "code",
   "execution_count": null,
   "metadata": {},
   "outputs": [],
   "source": []
  }
 ],
 "metadata": {
  "kernelspec": {
   "display_name": "Python 3",
   "language": "python",
   "name": "python3"
  },
  "language_info": {
   "codemirror_mode": {
    "name": "ipython",
    "version": 3
   },
   "file_extension": ".py",
   "mimetype": "text/x-python",
   "name": "python",
   "nbconvert_exporter": "python",
   "pygments_lexer": "ipython3",
   "version": "3.7.7"
  }
 },
 "nbformat": 4,
 "nbformat_minor": 4
}
