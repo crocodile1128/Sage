{
 "cells": [
  {
   "cell_type": "code",
   "execution_count": 23,
   "metadata": {},
   "outputs": [],
   "source": [
    "def egcd(a, b):\n",
    "    if a == 0:\n",
    "        return (b, 0, 1)\n",
    "    else:\n",
    "        g, y, x = egcd(b % a, a)\n",
    "        return (g, x - (b // a) * y, y)\n",
    "\n",
    "def modinv(a, p):\n",
    "    g, x, y = egcd(a, p)\n",
    "    if g != 1:\n",
    "        raise Exception('modular inverse does not exist')\n",
    "    else:\n",
    "        return x % p\n",
    "\n",
    "def group_add(P, Q):\n",
    "    a = 2\n",
    "    b = 2\n",
    "    p = 17\n",
    "    x1,x2 = P[0], Q[0]\n",
    "    y1,y2 = P[1], Q[1]\n",
    "    if P != Q:\n",
    "        s = (((y1-y2)%p) * modinv((x1-x2)%p, p)) % p\n",
    "    else:\n",
    "        s = ((3*(x1**2) + a) * modinv(2*y1, p)) % p\n",
    "    x3 = (s**2 - x1 - x2) % p\n",
    "    y3 = (s*(x1 - x3) - y1) % p\n",
    "    return (x3, y3)\n",
    "\n"
   ]
  },
  {
   "cell_type": "code",
   "execution_count": 24,
   "metadata": {},
   "outputs": [
    {
     "name": "stdout",
     "output_type": "stream",
     "text": [
      "P (5, 1)\n",
      "2P (6, 3)\n",
      "3P (10, 6)\n",
      "4P (3, 1)\n",
      "5P (9, 16)\n",
      "6P (16, 13)\n",
      "7P (0, 6)\n",
      "8P (13, 7)\n",
      "9P (7, 6)\n",
      "10P (7, 11)\n",
      "11P (13, 10)\n",
      "12P (0, 11)\n",
      "13P (16, 4)\n",
      "14P (9, 1)\n",
      "15P (3, 16)\n",
      "16P (10, 11)\n",
      "17P (6, 14)\n",
      "18P (5, 16)\n"
     ]
    }
   ],
   "source": [
    "'''\n",
    "a = 2\n",
    "b = 2\n",
    "p = 17\n",
    "'''\n",
    "start_p = (5,1)\n",
    "next_p = (5,1)\n",
    "print ('P', start_p)\n",
    "for i in range(20):\n",
    "    next_p = group_add(next_p, start_p)\n",
    "    print (str(i+2) + 'P', next_p)\n",
    "    if next_p[0] == start_p[0]:\n",
    "        break\n"
   ]
  },
  {
   "cell_type": "code",
   "execution_count": null,
   "metadata": {},
   "outputs": [],
   "source": []
  }
 ],
 "metadata": {
  "kernelspec": {
   "display_name": "Python 3",
   "language": "python",
   "name": "python3"
  },
  "language_info": {
   "codemirror_mode": {
    "name": "ipython",
    "version": 3
   },
   "file_extension": ".py",
   "mimetype": "text/x-python",
   "name": "python",
   "nbconvert_exporter": "python",
   "pygments_lexer": "ipython3",
   "version": "3.7.7"
  }
 },
 "nbformat": 4,
 "nbformat_minor": 4
}
