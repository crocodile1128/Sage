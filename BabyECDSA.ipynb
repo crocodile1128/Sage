{
 "cells": [
  {
   "cell_type": "code",
   "execution_count": 1,
   "metadata": {},
   "outputs": [
    {
     "name": "stdout",
     "output_type": "stream",
     "text": [
      "17\n",
      "19\n",
      "19\n"
     ]
    }
   ],
   "source": [
    "p = 17\n",
    "a = 2\n",
    "b = 2\n",
    "K = GF(p)\n",
    "E = EllipticCurve(K, [a,b])\n",
    "GX = 5\n",
    "GY = 1\n",
    "G = E(GX,GY)\n",
    "n = 19\n",
    "h = 1\n",
    "print (p)\n",
    "print (n)\n",
    "print (G.order())"
   ]
  },
  {
   "cell_type": "code",
   "execution_count": 2,
   "metadata": {},
   "outputs": [
    {
     "name": "stdout",
     "output_type": "stream",
     "text": [
      "Public key: (17, 2, 2, 19, (5 : 1 : 1), (7 : 11 : 1))\n"
     ]
    }
   ],
   "source": [
    "d = 10\n",
    "P = d*G\n",
    "key_pub = (p,a,b,n,G,P)\n",
    "print ('Public key:', key_pub)"
   ]
  },
  {
   "cell_type": "markdown",
   "metadata": {},
   "source": [
    "- sign"
   ]
  },
  {
   "cell_type": "code",
   "execution_count": 12,
   "metadata": {},
   "outputs": [
    {
     "name": "stdout",
     "output_type": "stream",
     "text": [
      "12\n",
      "r 13\n",
      "digest: 9\n",
      "signature: (13, 15)\n",
      "tosend (9, (13, 15))\n"
     ]
    }
   ],
   "source": [
    "digest = 9\n",
    "kE = 8\n",
    "kE_inv = inverse_mod(kE, n)\n",
    "R = kE*G\n",
    "(xr, yr) = R.xy()\n",
    "r = mod(xr, n)\n",
    "sig = mod(((digest + d*r) * kE_inv), n)\n",
    "tosend = (digest, (r, sig))\n",
    "print (kE_inv)\n",
    "print ('r', r)\n",
    "print ('digest:', digest)\n",
    "print ('signature:', (r,sig))\n",
    "print ('tosend', tosend)"
   ]
  },
  {
   "cell_type": "markdown",
   "metadata": {},
   "source": [
    "- verify"
   ]
  },
  {
   "cell_type": "code",
   "execution_count": 13,
   "metadata": {},
   "outputs": [
    {
     "name": "stdout",
     "output_type": "stream",
     "text": [
      "w 14\n",
      "u1 12\n",
      "u2 11\n",
      "(13 : 7 : 1)\n",
      "xp 13\n",
      "True\n"
     ]
    }
   ],
   "source": [
    "w = inverse_mod(int(sig), n)\n",
    "u1 = Integer(mod(w*digest, n))\n",
    "u2 = Integer(mod(w*r, n))\n",
    "PP = u1*G + u2*P\n",
    "(xpp, ypp) = PP.xy()\n",
    "xp = mod(xpp,n)\n",
    "print ('w', w)\n",
    "print ('u1', u1)\n",
    "print ('u2', u2)\n",
    "print (PP)\n",
    "print ('xp', xp)\n",
    "print (xp == r)"
   ]
  },
  {
   "cell_type": "code",
   "execution_count": null,
   "metadata": {},
   "outputs": [],
   "source": []
  }
 ],
 "metadata": {
  "kernelspec": {
   "display_name": "SageMath 9.2",
   "language": "sage",
   "name": "sagemath"
  },
  "language_info": {
   "codemirror_mode": {
    "name": "ipython",
    "version": 3
   },
   "file_extension": ".py",
   "mimetype": "text/x-python",
   "name": "python",
   "nbconvert_exporter": "python",
   "pygments_lexer": "ipython3",
   "version": "3.7.7"
  }
 },
 "nbformat": 4,
 "nbformat_minor": 4
}
