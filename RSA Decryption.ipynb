{
 "cells": [
  {
   "cell_type": "markdown",
   "metadata": {},
   "source": [
    "# HW Supplementary A - RSA Decryption\n",
    "- https://en.wikipedia.org/wiki/RSA_numbers#RSA-768"
   ]
  },
  {
   "cell_type": "code",
   "execution_count": 13,
   "metadata": {},
   "outputs": [
    {
     "name": "stdout",
     "output_type": "stream",
     "text": [
      "1230186684530117755130494958384962720772853569595334792197322452151726400507263657518745202199786469389956474942774063845925192557326303453731548268507917026122142913461670429214311602221240479274737794080665351419597459856902143413\n"
     ]
    }
   ],
   "source": [
    "n = 1230186684530117755130494958384962720772853569595334792197322452151726400507263657518745202199786469389956474942774063845925192557326303453731548268507917026122142913461670429214311602221240479274737794080665351419597459856902143413\n",
    "p = 33478071698956898786044169848212690817704794983713768568912431388982883793878002287614711652531743087737814467999489\n",
    "q = 36746043666799590428244633799627952632279158164343087642676032283815739666511279233373417143396810270092798736308917\n",
    "assert n == p*q\n",
    "print (p*q)"
   ]
  },
  {
   "cell_type": "code",
   "execution_count": 14,
   "metadata": {},
   "outputs": [
    {
     "name": "stdout",
     "output_type": "stream",
     "text": [
      "703813872109751212728960868893055483396831478279095442779477323396386489876250832944220079595968592852532432488202250497425262918616760886811596907743384527001944888359578241816763079495533278518938372814827410628647251148091159553\n"
     ]
    }
   ],
   "source": [
    "phi_n = (p-1)*(q-1)\n",
    "e = 65537\n",
    "d = inverse_mod(e, phi_n)\n",
    "print (d)"
   ]
  },
  {
   "cell_type": "code",
   "execution_count": 18,
   "metadata": {},
   "outputs": [],
   "source": [
    "# Verify\n",
    "def verify(sign, e, n, x):\n",
    "    return power_mod(sign, e, n) == x"
   ]
  },
  {
   "cell_type": "markdown",
   "metadata": {},
   "source": [
    "## Sign ID directly"
   ]
  },
  {
   "cell_type": "code",
   "execution_count": 19,
   "metadata": {},
   "outputs": [
    {
     "name": "stdout",
     "output_type": "stream",
     "text": [
      "243090642607339372988436396352957992461422459676802945090741709483497438210376892306246552368946551014340763183219727687977872952290658267132466696504390398226597726893687946705413220241575217355860136955364906745040766319607853755\n",
      "True\n"
     ]
    }
   ],
   "source": [
    "ID = 28244\n",
    "signature = power_mod(ID, d, n)\n",
    "print (signature)\n",
    "print (verify(signature, e, n, ID))"
   ]
  },
  {
   "cell_type": "markdown",
   "metadata": {},
   "source": [
    "## Sign ID by d with Chinese Remainder Theorem"
   ]
  },
  {
   "cell_type": "code",
   "execution_count": 20,
   "metadata": {},
   "outputs": [
    {
     "name": "stdout",
     "output_type": "stream",
     "text": [
      "243090642607339372988436396352957992461422459676802945090741709483497438210376892306246552368946551014340763183219727687977872952290658267132466696504390398226597726893687946705413220241575217355860136955364906745040766319607853755\n",
      "True\n"
     ]
    }
   ],
   "source": [
    "def dec_CRT(p, q, x):\n",
    "    dp = d % (p-1)\n",
    "    dq = d % (q-1)\n",
    "    xp = x % p\n",
    "    xq = x % q\n",
    "    yp = power_mod(xp, dp, p) # x ^ d ≡ xp ^ d ≡ xp ^ dp ≡ yp ≡ y mod p\n",
    "    yq = power_mod(xq, dq, q) # x ^ d ≡ xq ^ d ≡ xq ^ dq ≡ yq ≡ y mod q\n",
    "    invq_modp = inverse_mod(q, p)\n",
    "    invp_modq = inverse_mod(p, q)\n",
    "    # y ≡ x ^ d mod n\n",
    "    y = (yp*q*invq_modp + yq*p*invp_modq) % n\n",
    "    return y\n",
    "signature = dec_CRT(p, q, ID)\n",
    "print (signature)\n",
    "print (verify(signature, e, n, ID))"
   ]
  },
  {
   "cell_type": "code",
   "execution_count": null,
   "metadata": {},
   "outputs": [],
   "source": []
  }
 ],
 "metadata": {
  "kernelspec": {
   "display_name": "SageMath 9.2",
   "language": "sage",
   "name": "sagemath"
  },
  "language_info": {
   "codemirror_mode": {
    "name": "ipython",
    "version": 3
   },
   "file_extension": ".py",
   "mimetype": "text/x-python",
   "name": "python",
   "nbconvert_exporter": "python",
   "pygments_lexer": "ipython3",
   "version": "3.7.7"
  }
 },
 "nbformat": 4,
 "nbformat_minor": 4
}
