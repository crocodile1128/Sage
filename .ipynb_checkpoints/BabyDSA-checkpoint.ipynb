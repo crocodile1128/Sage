{
 "cells": [
  {
   "cell_type": "code",
   "execution_count": 4,
   "metadata": {},
   "outputs": [
    {
     "name": "stdout",
     "output_type": "stream",
     "text": [
      "public key: ( 233 29 37 23 )\n",
      "private key: ( 14 )\n"
     ]
    }
   ],
   "source": [
    "import random\n",
    "p = 233\n",
    "q = 29\n",
    "a = pow(3, int((p-1)/q), p)\n",
    "d = random.randint(1, q)\n",
    "b = pow(a, d, p)\n",
    "print ('public key: (', p, q, a, b, ')')\n",
    "print ('private key: (', d, ')')"
   ]
  },
  {
   "cell_type": "code",
   "execution_count": null,
   "metadata": {},
   "outputs": [],
   "source": []
  },
  {
   "cell_type": "code",
   "execution_count": null,
   "metadata": {},
   "outputs": [],
   "source": []
  }
 ],
 "metadata": {
  "kernelspec": {
   "display_name": "Python 3",
   "language": "python",
   "name": "python3"
  },
  "language_info": {
   "codemirror_mode": {
    "name": "ipython",
    "version": 3
   },
   "file_extension": ".py",
   "mimetype": "text/x-python",
   "name": "python",
   "nbconvert_exporter": "python",
   "pygments_lexer": "ipython3",
   "version": "3.7.7"
  }
 },
 "nbformat": 4,
 "nbformat_minor": 4
}
