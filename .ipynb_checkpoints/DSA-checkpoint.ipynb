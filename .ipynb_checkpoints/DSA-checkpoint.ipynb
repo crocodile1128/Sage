{
 "cells": [
  {
   "cell_type": "markdown",
   "metadata": {},
   "source": [
    "# Digital Signature Algorithm"
   ]
  },
  {
   "cell_type": "code",
   "execution_count": 9,
   "metadata": {},
   "outputs": [
    {
     "name": "stdout",
     "output_type": "stream",
     "text": [
      "147348785432826384734013891191650888928860817418643570007852500365004586145674301745889867659500954023050780471088329363624092529319725833781545955467941046734972377060638108019488670459032676828788388544470109932111548557777323124553329270296786095482965702668824939973018206904568795345870166527880202918959\n"
     ]
    },
    {
     "data": {
      "text/plain": [
       "2 * 19 * 83 * 109 * 428606125417633018022880196376963834853254109878364942167082139368690365941819334545007265157688079279117766491620744776180800059687496971318046562303121845377567373484196878347252856308961612249447006406514837521340451786219692263656254967615860144051723172755216733587226376014639326051294021652656603"
      ]
     },
     "execution_count": 9,
     "metadata": {},
     "output_type": "execute_result"
    }
   ],
   "source": [
    "import random\n",
    "# Generate a prime p with 2^1023 < p < 2^1024\n",
    "p = random_prime(2^1024-1,False,2^1023)\n",
    "print(p)\n",
    "factor(p-1)"
   ]
  },
  {
   "cell_type": "code",
   "execution_count": null,
   "metadata": {},
   "outputs": [],
   "source": []
  }
 ],
 "metadata": {
  "kernelspec": {
   "display_name": "SageMath 9.2",
   "language": "sage",
   "name": "sagemath"
  },
  "language_info": {
   "codemirror_mode": {
    "name": "ipython",
    "version": 3
   },
   "file_extension": ".py",
   "mimetype": "text/x-python",
   "name": "python",
   "nbconvert_exporter": "python",
   "pygments_lexer": "ipython3",
   "version": "3.7.7"
  }
 },
 "nbformat": 4,
 "nbformat_minor": 4
}
