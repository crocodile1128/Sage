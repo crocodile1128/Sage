{
 "cells": [
  {
   "cell_type": "markdown",
   "metadata": {},
   "source": [
    "# The Digital Signature Algorithm\n",
    "## Key Generation"
   ]
  },
  {
   "cell_type": "code",
   "execution_count": 23,
   "metadata": {},
   "outputs": [],
   "source": [
    "# Domain Parameter\n",
    "p = 233\n",
    "q = 29\n",
    "aa = 3\n",
    "a = pow(aa, int((p-1)/q), p)\n",
    "assert pow(aa, int((p-1)/q), p) != 1"
   ]
  },
  {
   "cell_type": "code",
   "execution_count": 24,
   "metadata": {},
   "outputs": [
    {
     "name": "stdout",
     "output_type": "stream",
     "text": [
      "public key: (233, 29, 37, 16)\n",
      "private key: 7\n"
     ]
    }
   ],
   "source": [
    "import random\n",
    "def key_generate(p, q, a):\n",
    "    d = random.randint(1, q)\n",
    "    b = pow(a, d, p)\n",
    "    return b, d\n",
    "b, d = key_generate(p, q, a)\n",
    "pub = (p, q, a, b)\n",
    "priv = d\n",
    "print ('public key:', pub)\n",
    "print ('private key:', priv)"
   ]
  },
  {
   "cell_type": "markdown",
   "metadata": {},
   "source": [
    "## Signature Generation"
   ]
  },
  {
   "cell_type": "code",
   "execution_count": 25,
   "metadata": {},
   "outputs": [],
   "source": [
    "def egcd(a, b):\n",
    "    if a == 0:\n",
    "        return (b, 0, 1)\n",
    "    else:\n",
    "        g, y, x = egcd(b % a, a)\n",
    "        return (g, x - (b // a) * y, y)\n",
    "\n",
    "def modinv(a, p):\n",
    "    g, x, y = egcd(a, p)\n",
    "    if g != 1:\n",
    "        raise Exception('modular inverse does not exist')\n",
    "    else:\n",
    "        return x % p"
   ]
  },
  {
   "cell_type": "code",
   "execution_count": 30,
   "metadata": {},
   "outputs": [
    {
     "name": "stdout",
     "output_type": "stream",
     "text": [
      "signature: (17, 0)\n"
     ]
    },
    {
     "data": {
      "text/plain": [
       "(17, 0)"
      ]
     },
     "execution_count": 30,
     "metadata": {},
     "output_type": "execute_result"
    }
   ],
   "source": [
    "def sign_generate(pub, priv, hash_m):\n",
    "    p, q, a, _ = pub\n",
    "    d = priv\n",
    "    # Ephemeral key\n",
    "    ke = random.randint(1,q)\n",
    "    invke_modq = modinv(ke,q)\n",
    "    r = pow(a, ke, p) % q\n",
    "    s = ((hash_m + d * r) * invke_modq) % q\n",
    "    sign = (r, s)\n",
    "    print ('signature:', sign)\n",
    "    return sign\n",
    "hash_m = 26\n",
    "sign_generate(pub, priv, hash_m)"
   ]
  },
  {
   "cell_type": "markdown",
   "metadata": {},
   "source": [
    "## Signature Verification"
   ]
  },
  {
   "cell_type": "code",
   "execution_count": 31,
   "metadata": {},
   "outputs": [
    {
     "name": "stdout",
     "output_type": "stream",
     "text": [
      "signature: (7, 5)\n",
      "7\n"
     ]
    },
    {
     "data": {
      "text/plain": [
       "True"
      ]
     },
     "execution_count": 31,
     "metadata": {},
     "output_type": "execute_result"
    }
   ],
   "source": [
    "def verify(pub, sign, hash_m):\n",
    "    p, q, a, b = pub\n",
    "    r, s = sign\n",
    "    w = modinv(s, q)\n",
    "    u1 = (w*hash_m) % q\n",
    "    u2 = (w*r) % q\n",
    "    v = (pow(a, u1, p) * pow(b, u2, p)) % p % q\n",
    "    print (v)\n",
    "    return v == r\n",
    "\n",
    "sign = sign_generate(pub, priv, hash_m)\n",
    "verify(pub, sign, hash_m)"
   ]
  },
  {
   "cell_type": "code",
   "execution_count": 28,
   "metadata": {},
   "outputs": [
    {
     "name": "stdout",
     "output_type": "stream",
     "text": [
      "233 29 37\n"
     ]
    }
   ],
   "source": []
  },
  {
   "cell_type": "code",
   "execution_count": null,
   "metadata": {},
   "outputs": [],
   "source": []
  }
 ],
 "metadata": {
  "kernelspec": {
   "display_name": "Python 3",
   "language": "python",
   "name": "python3"
  },
  "language_info": {
   "codemirror_mode": {
    "name": "ipython",
    "version": 3
   },
   "file_extension": ".py",
   "mimetype": "text/x-python",
   "name": "python",
   "nbconvert_exporter": "python",
   "pygments_lexer": "ipython3",
   "version": "3.7.7"
  }
 },
 "nbformat": 4,
 "nbformat_minor": 4
}
